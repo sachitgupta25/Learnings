{
 "cells": [
  {
   "cell_type": "code",
   "execution_count": 18,
   "metadata": {},
   "outputs": [
    {
     "name": "stderr",
     "output_type": "stream",
     "text": [
      "c:\\Users\\guptasa7\\AppData\\Local\\Programs\\Python\\Python310\\lib\\site-packages\\urllib3\\connectionpool.py:1099: InsecureRequestWarning: Unverified HTTPS request is being made to host 'www.angelone.in'. Adding certificate verification is strongly advised. See: https://urllib3.readthedocs.io/en/latest/advanced-usage.html#tls-warnings\n",
      "  warnings.warn(\n"
     ]
    }
   ],
   "source": [
    "from bs4 import BeautifulSoup\n",
    "import requests\n",
    "import time  \n",
    "nifty_price=''    \n",
    "url='https://www.angelone.in/indices/nifty-50'    \n",
    "response=requests.get(url,verify=False)        \n",
    "soup=BeautifulSoup(response.text,'html.parser')  \n",
    "nifty=soup.find(class_='cs-price') \n",
    "for i in nifty:\n",
    "    nifty_price=i\n",
    "    \n",
    "\n"
   ]
  },
  {
   "cell_type": "code",
   "execution_count": 19,
   "metadata": {},
   "outputs": [
    {
     "data": {
      "text/plain": [
       "'24,831.85'"
      ]
     },
     "execution_count": 19,
     "metadata": {},
     "output_type": "execute_result"
    }
   ],
   "source": [
    "nifty_price"
   ]
  },
  {
   "cell_type": "code",
   "execution_count": 26,
   "metadata": {},
   "outputs": [],
   "source": [
    "from bs4 import BeautifulSoup\n",
    "import requests\n",
    "import time\n",
    "def getStockValue():  \n",
    "    nifty_price=''    \n",
    "    url='https://www.angelone.in/indices/nifty-50'    \n",
    "    response=requests.get(url,verify=False)        \n",
    "    soup=BeautifulSoup(response.text,'html.parser')  \n",
    "    nifty=soup.find(class_='cs-price')  \n",
    "    res=soup.find(class_='ao-index-companies')    \n",
    "    tr=res.find_all('tr')    \n",
    "    data_dict = {    row.find_all('td')[0].text.strip(): [cell.text.strip() for cell in row.find_all('td')[1:]]    for row in tr if len(row.find_all('td')) > 1    }   \n",
    "    for i in nifty:\n",
    "        nifty_price=i\n",
    "    data_dict['Nifty50']=nifty_price    \n",
    "    return data_dict"
   ]
  },
  {
   "cell_type": "code",
   "execution_count": 27,
   "metadata": {},
   "outputs": [
    {
     "name": "stderr",
     "output_type": "stream",
     "text": [
      "c:\\Users\\guptasa7\\AppData\\Local\\Programs\\Python\\Python310\\lib\\site-packages\\urllib3\\connectionpool.py:1099: InsecureRequestWarning: Unverified HTTPS request is being made to host 'www.angelone.in'. Adding certificate verification is strongly advised. See: https://urllib3.readthedocs.io/en/latest/advanced-usage.html#tls-warnings\n",
      "  warnings.warn(\n"
     ]
    }
   ],
   "source": [
    "res=getStockValue()"
   ]
  },
  {
   "cell_type": "code",
   "execution_count": 28,
   "metadata": {},
   "outputs": [
    {
     "data": {
      "text/plain": [
       "{'Adani Enterp.': ['₹3,072.50',\n",
       "  '-26.55\\n (-0.86%)',\n",
       "  '₹3,068.40 - ₹3,123.00',\n",
       "  ''],\n",
       " 'Adani Ports': ['₹1,488.75', '-3.55\\n (-0.24%)', '₹1,487.00 - ₹1,503.00', ''],\n",
       " 'Apollo Hospitals': ['₹6,846.95',\n",
       "  '16.40\\n (0.24%)',\n",
       "  '₹6,840.05 - ₹6,927.40',\n",
       "  ''],\n",
       " 'Asian Paints': ['₹3,156.00',\n",
       "  '-30.60\\n (-0.96%)',\n",
       "  '₹3,152.70 - ₹3,198.60',\n",
       "  ''],\n",
       " 'Axis Bank': ['₹1,170.00', '0.05\\n (0.00%)', '₹1,167.00 - ₹1,173.95', ''],\n",
       " 'B P C L': ['₹355.05', '4.95\\n (1.41%)', '₹349.55 - ₹358.00', ''],\n",
       " 'Bajaj Auto': ['₹10,349.75',\n",
       "  '435.55\\n (4.39%)',\n",
       "  '₹9,930.00 - ₹10,369.90',\n",
       "  ''],\n",
       " 'Bajaj Finance': ['₹6,743.00',\n",
       "  '-0.60\\n (-0.01%)',\n",
       "  '₹6,704.95 - ₹6,760.00',\n",
       "  ''],\n",
       " 'Bajaj Finserv': ['₹1,632.35', '6.65\\n (0.41%)', '₹1,623.20 - ₹1,637.95', ''],\n",
       " 'Bharti Airtel': ['₹1,498.90',\n",
       "  '12.55\\n (0.84%)',\n",
       "  '₹1,479.35 - ₹1,504.00',\n",
       "  ''],\n",
       " 'Britannia Inds.': ['₹5,832.00',\n",
       "  '-4.80\\n (-0.08%)',\n",
       "  '₹5,811.00 - ₹5,850.00',\n",
       "  ''],\n",
       " 'Cipla': ['₹1,571.50', '-14.30\\n (-0.90%)', '₹1,568.45 - ₹1,585.80', ''],\n",
       " 'Coal India': ['₹539.20', '10.35\\n (1.96%)', '₹528.85 - ₹540.65', ''],\n",
       " \"Divi's Lab.\": ['₹4,858.60',\n",
       "  '-52.85\\n (-1.08%)',\n",
       "  '₹4,828.95 - ₹4,950.00',\n",
       "  ''],\n",
       " \"Dr Reddy's Labs\": ['₹6,964.70',\n",
       "  '-4.35\\n (-0.06%)',\n",
       "  '₹6,930.05 - ₹6,990.00',\n",
       "  ''],\n",
       " 'Eicher Motors': ['₹4,913.90',\n",
       "  '-19.65\\n (-0.40%)',\n",
       "  '₹4,895.05 - ₹4,967.85',\n",
       "  ''],\n",
       " 'Grasim Inds': ['₹2,744.10',\n",
       "  '-11.05\\n (-0.40%)',\n",
       "  '₹2,706.95 - ₹2,780.90',\n",
       "  ''],\n",
       " 'HCL Technologies': ['₹1,666.50',\n",
       "  '-9.65\\n (-0.58%)',\n",
       "  '₹1,665.00 - ₹1,685.95',\n",
       "  ''],\n",
       " 'HDFC Bank': ['₹1,627.45', '-3.85\\n (-0.24%)', '₹1,625.05 - ₹1,634.00', ''],\n",
       " 'HDFC Life Insur.': ['₹726.70', '0.70\\n (0.10%)', '₹723.45 - ₹730.50', ''],\n",
       " 'Hero Motocorp': ['₹5,409.70',\n",
       "  '79.75\\n (1.50%)',\n",
       "  '₹5,315.00 - ₹5,443.80',\n",
       "  ''],\n",
       " 'Hind. Unilever': ['₹2,804.60',\n",
       "  '11.80\\n (0.42%)',\n",
       "  '₹2,771.35 - ₹2,809.75',\n",
       "  ''],\n",
       " 'Hindalco Inds.': ['₹679.00', '-6.55\\n (-0.96%)', '₹677.80 - ₹694.70', ''],\n",
       " 'ICICI Bank': ['₹1,201.80', '10.70\\n (0.90%)', '₹1,188.55 - ₹1,203.65', ''],\n",
       " 'IndusInd Bank': ['₹1,380.25',\n",
       "  '-1.65\\n (-0.12%)',\n",
       "  '₹1,373.80 - ₹1,385.00',\n",
       "  ''],\n",
       " 'Infosys': ['₹1,867.70', '-12.55\\n (-0.67%)', '₹1,857.00 - ₹1,882.60', ''],\n",
       " 'ITC': ['₹504.25', '-0.30\\n (-0.06%)', '₹499.95 - ₹506.95', ''],\n",
       " 'JSW Steel': ['₹938.80', '5.55\\n (0.59%)', '₹929.15 - ₹940.50', ''],\n",
       " 'Kotak Mah. Bank': ['₹1,823.30',\n",
       "  '1.80\\n (0.10%)',\n",
       "  '₹1,814.55 - ₹1,827.90',\n",
       "  ''],\n",
       " 'Larsen & Toubro': ['₹3,593.85',\n",
       "  '-12.65\\n (-0.35%)',\n",
       "  '₹3,587.05 - ₹3,622.00',\n",
       "  ''],\n",
       " 'LTIMindtree': ['₹5,642.80',\n",
       "  '-61.60\\n (-1.08%)',\n",
       "  '₹5,620.00 - ₹5,703.00',\n",
       "  ''],\n",
       " 'M & M': ['₹2,762.85', '29.90\\n (1.09%)', '₹2,725.30 - ₹2,769.00', ''],\n",
       " 'Maruti Suzuki': ['₹12,294.95',\n",
       "  '18.60\\n (0.15%)',\n",
       "  '₹12,254.40 - ₹12,375.05',\n",
       "  ''],\n",
       " 'Nestle India': ['₹2,536.60',\n",
       "  '-14.40\\n (-0.56%)',\n",
       "  '₹2,530.25 - ₹2,551.35',\n",
       "  ''],\n",
       " 'NTPC': ['₹403.00', '-0.35\\n (-0.09%)', '₹399.55 - ₹405.90', ''],\n",
       " 'O N G C': ['₹320.20', '-4.15\\n (-1.28%)', '₹319.75 - ₹324.80', ''],\n",
       " 'Power Grid Corpn': ['₹336.15', '2.15\\n (0.64%)', '₹333.35 - ₹336.95', ''],\n",
       " 'Reliance Industr': ['₹3,002.60',\n",
       "  '6.35\\n (0.21%)',\n",
       "  '₹2,998.05 - ₹3,022.65',\n",
       "  ''],\n",
       " 'SBI Life Insuran': ['₹1,795.00',\n",
       "  '-0.25\\n (-0.01%)',\n",
       "  '₹1,782.00 - ₹1,798.40',\n",
       "  ''],\n",
       " 'Shriram Finance': ['₹3,126.70',\n",
       "  '-16.90\\n (-0.54%)',\n",
       "  '₹3,125.00 - ₹3,162.30',\n",
       "  ''],\n",
       " 'St Bk of India': ['₹817.00', '-3.30\\n (-0.40%)', '₹816.25 - ₹822.00', ''],\n",
       " 'Sun Pharma.Inds.': ['₹1,763.30',\n",
       "  '12.65\\n (0.72%)',\n",
       "  '₹1,751.90 - ₹1,769.00',\n",
       "  ''],\n",
       " 'Tata Consumer': ['₹1,202.05',\n",
       "  '-3.75\\n (-0.31%)',\n",
       "  '₹1,199.10 - ₹1,215.00',\n",
       "  ''],\n",
       " 'Tata Motors': ['₹1,088.75', '20.30\\n (1.90%)', '₹1,071.00 - ₹1,092.60', ''],\n",
       " 'Tata Steel': ['₹153.98', '-0.16\\n (-0.10%)', '₹152.55 - ₹154.25', ''],\n",
       " 'TCS': ['₹4,459.35', '-42.65\\n (-0.95%)', '₹4,457.45 - ₹4,506.00', ''],\n",
       " 'Tech Mahindra': ['₹1,596.00',\n",
       "  '-15.25\\n (-0.95%)',\n",
       "  '₹1,593.05 - ₹1,616.95',\n",
       "  ''],\n",
       " 'Titan Company': ['₹3,566.85',\n",
       "  '-37.55\\n (-1.04%)',\n",
       "  '₹3,544.00 - ₹3,622.85',\n",
       "  ''],\n",
       " 'UltraTech Cem.': ['₹11,285.00',\n",
       "  '-24.40\\n (-0.22%)',\n",
       "  '₹11,204.45 - ₹11,340.00',\n",
       "  ''],\n",
       " 'Wipro': ['₹513.20', '-5.80\\n (-1.12%)', '₹511.55 - ₹521.45', ''],\n",
       " 'Nifty50': '24,831.85'}"
      ]
     },
     "execution_count": 28,
     "metadata": {},
     "output_type": "execute_result"
    }
   ],
   "source": [
    "res"
   ]
  }
 ],
 "metadata": {
  "kernelspec": {
   "display_name": "Python 3",
   "language": "python",
   "name": "python3"
  },
  "language_info": {
   "codemirror_mode": {
    "name": "ipython",
    "version": 3
   },
   "file_extension": ".py",
   "mimetype": "text/x-python",
   "name": "python",
   "nbconvert_exporter": "python",
   "pygments_lexer": "ipython3",
   "version": "3.10.0"
  }
 },
 "nbformat": 4,
 "nbformat_minor": 2
}
